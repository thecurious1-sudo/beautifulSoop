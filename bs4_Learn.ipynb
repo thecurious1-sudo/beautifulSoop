{
 "cells": [
  {
   "cell_type": "code",
   "execution_count": 2,
   "metadata": {},
   "outputs": [],
   "source": [
    "from bs4 import BeautifulSoup"
   ]
  },
  {
   "cell_type": "code",
   "execution_count": 3,
   "metadata": {},
   "outputs": [
    {
     "name": "stdout",
     "output_type": "stream",
     "text": [
      "<div class=\"div-1\">\n",
      "<a></a>\n",
      "<div class=\"div-1-1\">\n",
      "<div class=\"div-1-1-1\"></div>\n",
      "</div>\n",
      "<div class=\"div-1-2\">\n",
      "<div class=\"div-1-2-1\"></div>\n",
      "</div>\n",
      "</div>\n"
     ]
    }
   ],
   "source": [
    "with open('E:/Python/Learning/beautifulSoop/index.html','r') as html_file:\n",
    "    soup=BeautifulSoup(html_file,'lxml')\n",
    "    result=soup.find('div',recursive=True) \n",
    "    print(result)"
   ]
  },
  {
   "cell_type": "code",
   "execution_count": 6,
   "metadata": {},
   "outputs": [
    {
     "name": "stdout",
     "output_type": "stream",
     "text": [
      "None\n"
     ]
    }
   ],
   "source": [
    "with open('E:/Python/Learning/beautifulSoop/index.html','r') as html_file:\n",
    "    soup=BeautifulSoup(html_file,'lxml')\n",
    "    result=soup.find('div',recursive=False) \n",
    "    print(result)"
   ]
  },
  {
   "cell_type": "code",
   "execution_count": 7,
   "metadata": {},
   "outputs": [
    {
     "name": "stdout",
     "output_type": "stream",
     "text": [
      "[]\n"
     ]
    }
   ],
   "source": [
    "with open('E:/Python/Learning/beautifulSoop/index.html','r') as html_file:\n",
    "    soup=BeautifulSoup(html_file,'lxml')\n",
    "    result=soup.findAll('div',recursive=False) \n",
    "    print(result)"
   ]
  },
  {
   "cell_type": "code",
   "execution_count": 8,
   "metadata": {},
   "outputs": [
    {
     "name": "stdout",
     "output_type": "stream",
     "text": [
      "[<div class=\"div-1\">\n",
      "<a></a>\n",
      "<div class=\"div-1-1\">\n",
      "<div class=\"div-1-1-1\"></div>\n",
      "</div>\n",
      "<div class=\"div-1-2\">\n",
      "<div class=\"div-1-2-1\"></div>\n",
      "</div>\n",
      "</div>, <div class=\"div-1-1\">\n",
      "<div class=\"div-1-1-1\"></div>\n",
      "</div>, <div class=\"div-1-1-1\"></div>, <div class=\"div-1-2\">\n",
      "<div class=\"div-1-2-1\"></div>\n",
      "</div>, <div class=\"div-1-2-1\"></div>, <div class=\"div-2\">\n",
      "<div class=\"div-2-2\"></div>\n",
      "</div>, <div class=\"div-2-2\"></div>, <div class=\"div-3\"></div>, <div class=\"test\"></div>]\n"
     ]
    }
   ],
   "source": [
    "with open('E:/Python/Learning/beautifulSoop/index.html','r') as html_file:\n",
    "    soup=BeautifulSoup(html_file,'lxml')\n",
    "    result=soup.findAll('div',recursive=True) \n",
    "    print(result)"
   ]
  },
  {
   "cell_type": "code",
   "execution_count": 9,
   "metadata": {},
   "outputs": [
    {
     "name": "stdout",
     "output_type": "stream",
     "text": [
      "None\n"
     ]
    }
   ],
   "source": [
    "with open('E:/Python/Learning/beautifulSoop/index.html','r') as html_file:\n",
    "    soup=BeautifulSoup(html_file,'lxml')\n",
    "    result=soup.findChild('div',recursive=False) \n",
    "    print(result)"
   ]
  },
  {
   "cell_type": "code",
   "execution_count": 10,
   "metadata": {},
   "outputs": [
    {
     "name": "stdout",
     "output_type": "stream",
     "text": [
      "<div class=\"div-1\">\n",
      "<a></a>\n",
      "<div class=\"div-1-1\">\n",
      "<div class=\"div-1-1-1\"></div>\n",
      "</div>\n",
      "<div class=\"div-1-2\">\n",
      "<div class=\"div-1-2-1\"></div>\n",
      "</div>\n",
      "</div>\n"
     ]
    }
   ],
   "source": [
    "with open('E:/Python/Learning/beautifulSoop/index.html','r') as html_file:\n",
    "    soup=BeautifulSoup(html_file,'lxml')\n",
    "    result=soup.findChild('div',recursive=True) \n",
    "    print(result)"
   ]
  },
  {
   "cell_type": "code",
   "execution_count": 11,
   "metadata": {},
   "outputs": [
    {
     "name": "stdout",
     "output_type": "stream",
     "text": [
      "[]\n"
     ]
    }
   ],
   "source": [
    "with open('E:/Python/Learning/beautifulSoop/index.html','r') as html_file:\n",
    "    soup=BeautifulSoup(html_file,'lxml')\n",
    "    result=soup.findChildren('div',recursive=False) \n",
    "    print(result)"
   ]
  },
  {
   "cell_type": "code",
   "execution_count": 12,
   "metadata": {},
   "outputs": [
    {
     "name": "stdout",
     "output_type": "stream",
     "text": [
      "[<div class=\"div-1\">\n",
      "<a></a>\n",
      "<div class=\"div-1-1\">\n",
      "<div class=\"div-1-1-1\"></div>\n",
      "</div>\n",
      "<div class=\"div-1-2\">\n",
      "<div class=\"div-1-2-1\"></div>\n",
      "</div>\n",
      "</div>, <div class=\"div-1-1\">\n",
      "<div class=\"div-1-1-1\"></div>\n",
      "</div>, <div class=\"div-1-1-1\"></div>, <div class=\"div-1-2\">\n",
      "<div class=\"div-1-2-1\"></div>\n",
      "</div>, <div class=\"div-1-2-1\"></div>, <div class=\"div-2\">\n",
      "<div class=\"div-2-2\"></div>\n",
      "</div>, <div class=\"div-2-2\"></div>, <div class=\"div-3\"></div>, <div class=\"test\"></div>]\n"
     ]
    }
   ],
   "source": [
    "with open('E:/Python/Learning/beautifulSoop/index.html','r') as html_file:\n",
    "    soup=BeautifulSoup(html_file,'lxml')\n",
    "    result=soup.findChildren('div',recursive=True) \n",
    "    print(result)"
   ]
  },
  {
   "cell_type": "code",
   "execution_count": 16,
   "metadata": {},
   "outputs": [
    {
     "name": "stdout",
     "output_type": "stream",
     "text": [
      "[]\n"
     ]
    }
   ],
   "source": [
    "with open('E:/Python/Learning/beautifulSoop/index.html','r') as html_file:\n",
    "    soup=BeautifulSoup(html_file,'lxml')\n",
    "    result=soup.findAll('div',attrs={\"class\":\"div-1\"},recursive=False) \n",
    "    print(result)"
   ]
  },
  {
   "cell_type": "code",
   "execution_count": 20,
   "metadata": {},
   "outputs": [
    {
     "name": "stdout",
     "output_type": "stream",
     "text": [
      "[<div class=\"div-1\">\n",
      "<a></a>\n",
      "<div class=\"div-1-1\">\n",
      "<div class=\"div-1-1-1\"></div>\n",
      "</div>\n",
      "<div class=\"div-1-2\">\n",
      "<div class=\"div-1-2-1\"></div>\n",
      "</div>\n",
      "</div>]\n"
     ]
    }
   ],
   "source": [
    "with open('E:/Python/Learning/beautifulSoop/index.html','r') as html_file:\n",
    "    soup=BeautifulSoup(html_file,'lxml')\n",
    "    result=soup.findAll('div',attrs={\"class\":\"div-1\"},recursive=True) \n",
    "    print(result)"
   ]
  },
  {
   "cell_type": "code",
   "execution_count": 29,
   "metadata": {},
   "outputs": [
    {
     "name": "stdout",
     "output_type": "stream",
     "text": [
      "[<div class=\"div-1-1\">\n",
      "<div class=\"div-1-1-1\"></div>\n",
      "</div>, <div class=\"div-1-1-1\"></div>, <div class=\"div-1-2\">\n",
      "<div class=\"div-1-2-1\"></div>\n",
      "</div>, <div class=\"div-1-2-1\"></div>]\n"
     ]
    }
   ],
   "source": [
    "with open('E:/Python/Learning/beautifulSoop/index.html','r') as html_file:\n",
    "    soup=BeautifulSoup(html_file,'lxml')\n",
    "    result=soup.findAll('div',attrs={\"class\":\"div-1\"},recursive=True)[0].findChildren('div')\n",
    "    print(result)"
   ]
  }
 ],
 "metadata": {
  "kernelspec": {
   "display_name": "Python 3",
   "language": "python",
   "name": "python3"
  },
  "language_info": {
   "codemirror_mode": {
    "name": "ipython",
    "version": 3
   },
   "file_extension": ".py",
   "mimetype": "text/x-python",
   "name": "python",
   "nbconvert_exporter": "python",
   "pygments_lexer": "ipython3",
   "version": "3.10.9"
  },
  "orig_nbformat": 4
 },
 "nbformat": 4,
 "nbformat_minor": 2
}
